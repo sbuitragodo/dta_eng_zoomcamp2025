{
 "cells": [
  {
   "cell_type": "code",
   "execution_count": null,
   "metadata": {
    "vscode": {
     "languageId": "plaintext"
    }
   },
   "outputs": [],
   "source": [
    "#!pip install pandas, sqlalchemy, psycopg2"
   ]
  },
  {
   "cell_type": "code",
   "execution_count": null,
   "metadata": {
    "vscode": {
     "languageId": "plaintext"
    }
   },
   "outputs": [],
   "source": [
    "import os\n",
    "import argparse\n",
    "import pandas as pd\n",
    "from sqlalchemy import create_engine\n",
    "from time import time"
   ]
  },
  {
   "cell_type": "code",
   "execution_count": null,
   "metadata": {
    "vscode": {
     "languageId": "plaintext"
    }
   },
   "outputs": [],
   "source": [
    "#Params\n",
    "user = root\n",
    "host = localhost\n",
    "port = 5432\n",
    "db = ny_taxi\n",
    "csv_name = 'output.csv'\n",
    "\n",
    "#csv file\n",
    "df = pd.read_csv('./data/yellow_tripdata_2021-01.csv', nrows=100)\n",
    "\n",
    "df.head()"
   ]
  },
  {
   "cell_type": "code",
   "execution_count": null,
   "metadata": {
    "vscode": {
     "languageId": "plaintext"
    }
   },
   "outputs": [],
   "source": [
    "engine = create_engine('postgresql://{user}:{password}@{host}:{port}/{db}')\n",
    "\n",
    "df_iter = pd.read_csv(csv_name, iterator=True, chunksize=100000)\n",
    "\n",
    "df = next(df_iter)\n",
    "\n",
    "df.tpep_pickup_datetime = pd.to_datetime(df.tpep_pickup_datetime)\n",
    "df.tpep_dropoff_datetime = pd.to_datetime(df.tpep_dropoff_datetime)\n",
    "\n",
    "df.head(n=0).to_sql(name=table_name, con=engine, if_exists='replace')\n",
    "\n",
    "df.to_sql(name=table_name, con=engine, if_exists='append')\n",
    "\n",
    "while True:\n",
    "t_start = time()\n",
    "\n",
    "df = next(df_iter)\n",
    "\n",
    "df.tpep_pickup_datetime = pd.to_datetime(df.tpep_pickup_datetime)\n",
    "df.tpep_dropoff_datetime = pd.to_datetime(df.tpep_dropoff_datetime)\n",
    "\n",
    "df.to_sql(name=table_name, con=engine, if_exists='append')\n",
    "\n",
    "t_end = time()\n",
    "\n",
    "print('inserted another chunk..., took %.3f seconds' % (t_end - t_start))"
   ]
  }
 ],
 "metadata": {
  "language_info": {
   "name": "python"
  }
 },
 "nbformat": 4,
 "nbformat_minor": 2
}
